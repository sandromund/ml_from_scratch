{
 "cells": [
  {
   "cell_type": "markdown",
   "metadata": {},
   "source": [
    "# Imports"
   ]
  },
  {
   "cell_type": "code",
   "execution_count": 1,
   "metadata": {},
   "outputs": [],
   "source": [
    "import math\n",
    "import random \n",
    "import datetime\n",
    "import itertools\n",
    "import matplotlib\n",
    "import numpy as np\n",
    "import pandas as pd\n",
    "import seaborn as sns\n",
    "from math import sqrt \n",
    "from functools import reduce\n",
    "import matplotlib.pyplot as plt\n",
    "from sklearn.datasets import make_classification, make_regression, make_blobs"
   ]
  },
  {
   "cell_type": "markdown",
   "metadata": {},
   "source": [
    "# Config"
   ]
  },
  {
   "cell_type": "code",
   "execution_count": 2,
   "metadata": {},
   "outputs": [
    {
     "data": {
      "text/html": [
       "<style>#notebook { padding-top:0px !important; } .container { width:90% !important; } .end_space { min-height:0px !important; } </style>"
      ],
      "text/plain": [
       "<IPython.core.display.HTML object>"
      ]
     },
     "metadata": {},
     "output_type": "display_data"
    }
   ],
   "source": [
    "from IPython.core.display import display, HTML\n",
    "display(HTML(\"<style>\" \"#notebook { padding-top:0px !important; } .container { width:90% !important; } .end_space { min-height:0px !important; } </style>\"))"
   ]
  },
  {
   "cell_type": "markdown",
   "metadata": {},
   "source": [
    "  <h1 style=\"color:darkblue; font-size:300%\"> Basics </h1>"
   ]
  },
  {
   "cell_type": "markdown",
   "metadata": {},
   "source": [
    "# Lineare Algebra"
   ]
  },
  {
   "cell_type": "code",
   "execution_count": 3,
   "metadata": {},
   "outputs": [],
   "source": [
    "def matrix_transpose(A):\n",
    "    return [ [A[j][i] for j in range(len(A))]  \n",
    "            for i in range(len(A[0]))]\n",
    "\n",
    "\n",
    "def matrix_subtraktion(A, B):\n",
    "    return [ [A[i][j] - B[i][j] for j in range(len(A[0]))]    \n",
    "            for i in range(len(A))] \n",
    "\n",
    "def matrix_multiplication(A,B):\n",
    "    result = []\n",
    "    for k in range(len(A)):\n",
    "        k_result = []\n",
    "        for i in range(len(B[0])):\n",
    "            sum_i = 0\n",
    "            for j in range(len(A[0])):\n",
    "                sum_i += (A[k][j] * B[j][i])\n",
    "            k_result += [sum_i]\n",
    "        result += [k_result]\n",
    "    return result\n",
    "\n",
    "\n",
    "def dot_product(v, w):\n",
    "    return sum([v[i] * w[i] for i in range(len(v))])\n",
    "\n",
    "def l1_norm(v):\n",
    "    return sum([abs(v[i]) for i in range(len(v))])\n",
    "\n",
    "def l2_norm(v):\n",
    "    return math.sqrt(sum([v[i]**2 for i in range(len(v))]))\n"
   ]
  },
  {
   "cell_type": "markdown",
   "metadata": {},
   "source": [
    "# Statistik"
   ]
  },
  {
   "cell_type": "code",
   "execution_count": 4,
   "metadata": {},
   "outputs": [],
   "source": [
    "def expected_value(X):\n",
    "    return sum(X) / len(X)\n",
    "\n",
    "def sum_of_square_deviations(X):\n",
    "    return sum((x_i - expected_value(X))**2 for x_i in X)\n",
    "\n",
    "def variance(X):\n",
    "    return (sum_of_square_deviations(X) / (len(X)-1))\n",
    "\n",
    "def standard_deviation(X):\n",
    "    return variance(X)**0.5\n",
    "\n",
    "def gaussian_probability_density(x, u, std):\n",
    "    return ((1 / ( std * math.sqrt(2 * math.pi))) * \n",
    "            math.exp( -(1/2) * ( (x - u) / std) )**2 )\n",
    "\n",
    "def prior_probability(x_i, X):\n",
    "    return X.count(x_i) / len(X)\n",
    "\n",
    "def joint_probability(x_i, y_i, X, Y):\n",
    "    return [x_i == X[i] and y_i == Y[i] \n",
    "            for i in range(len(X))].count(True) / len(X)\n",
    "\n",
    "def conditional_probability(x_i, y_i, X, Y):\n",
    "    Z = [z for z in list(zip(X, Y)) if z[1] == y_i]\n",
    "    return [x_i == z[0] for z in Z].count(True) / len(Z)\n",
    "\n",
    "def marginal_probability(x_i, X, Y):\n",
    "    return sum([conditional_probability(x_i, y_i, X, Y)\n",
    "                * prior_probability(y_i, Y) for y_i in Y])\n",
    "\n",
    "def covariance(X, Y):\n",
    "    return sum([(X[i] - expected_value(X)) * (Y[i] - expected_value(Y)) \n",
    "                for i in range(len(X))]) * (1 / (len(X) -1))\n",
    "\n",
    "def covariance_matrix(A):\n",
    "    return [[covariance(i, j) for j in matrix_transpose(A)] \n",
    "            for i in matrix_transpose(A)]"
   ]
  },
  {
   "cell_type": "markdown",
   "metadata": {},
   "source": [
    "# Outliers"
   ]
  },
  {
   "cell_type": "code",
   "execution_count": 5,
   "metadata": {},
   "outputs": [
    {
     "data": {
      "text/plain": [
       "[100]"
      ]
     },
     "execution_count": 5,
     "metadata": {},
     "output_type": "execute_result"
    }
   ],
   "source": [
    "X = [1, 2, -3, 4, 1, 4, 9, 20, 100]\n",
    "\n",
    "def get_outliers_by_standard_deviation(X, threshold=3):\n",
    "       return [x for x in X \n",
    "               if abs(x) > standard_deviation(X) * threshold]\n",
    "\n",
    "get_outliers_by_standard_deviation(X)"
   ]
  },
  {
   "cell_type": "code",
   "execution_count": 6,
   "metadata": {},
   "outputs": [
    {
     "data": {
      "text/plain": [
       "32.42684073418192"
      ]
     },
     "execution_count": 6,
     "metadata": {},
     "output_type": "execute_result"
    }
   ],
   "source": [
    "standard_deviation(X)"
   ]
  },
  {
   "cell_type": "markdown",
   "metadata": {},
   "source": [
    "# t-test"
   ]
  },
  {
   "cell_type": "code",
   "execution_count": 7,
   "metadata": {},
   "outputs": [
    {
     "data": {
      "text/plain": [
       "(-4.628451081042417, 1.4638501094227998)"
      ]
     },
     "execution_count": 7,
     "metadata": {},
     "output_type": "execute_result"
    }
   ],
   "source": [
    "# https://matheguru.com/stochastik/t-test.html \n",
    "# Zweistichproben-t-Test für unabhängige Stichproben (ungepaarter t-Test)\n",
    "# Zusätzlich zu der Annahme dass die Daten normalverteilt sind, wird auch davon ausgegangen, dass die Standardabweichung geich \n",
    "# Shapiro-Wilk-Test, oder verschiedenen plots verwenden um dass sicher zu stellen\n",
    "\n",
    "\n",
    "def t_test(X, Y):\n",
    "    standard_error = s_p(X, Y) * sqrt( 1/len(X) + 1/len(Y) )\n",
    "    return  expected_value(X) - expected_value(Y) / standard_error\n",
    "    \n",
    "def s_p(X, Y):\n",
    "    std = lambda x: standard_deviation(x)\n",
    "    degree_of_freedom = len(X) + len(Y) - 2\n",
    "    return sqrt( ((len(X)-1)*std(X)**2 + (len(Y)-1)*std(Y)**2) \n",
    "                / degree_of_freedom)\n",
    "    \n",
    "    \n",
    "X = [1, 2, 3, 4]\n",
    "Y = [5, 6, 7, 8 , 9]\n",
    "\n",
    "s_p(X, Y), expected_value(X), expected_value(Y), standard_deviation(X), standard_deviation(Y)\n",
    "\n",
    "t_test(X, Y), s_p(X,Y) #(-4.628451081042417, 1.4638501094227998)"
   ]
  },
  {
   "cell_type": "markdown",
   "metadata": {},
   "source": [
    "# z-test "
   ]
  },
  {
   "cell_type": "code",
   "execution_count": 8,
   "metadata": {},
   "outputs": [],
   "source": [
    "# https://welt-der-bwl.de/Gau%C3%9F-Test\n",
    "\n",
    "mean = lambda x: sum(x)/len(x)\n",
    "\n",
    "def z_test(sample, population):\n",
    "    return ((mean(sample), expected_value(population)) /\n",
    "            std(population) / sqrt(len(sample)))\n"
   ]
  },
  {
   "cell_type": "markdown",
   "metadata": {},
   "source": [
    "$ z=\\frac{\\left(\\bar{x}-\\mu_{0}\\right)}{\\sigma_{\\bar{x}}} $"
   ]
  },
  {
   "cell_type": "markdown",
   "metadata": {},
   "source": [
    "# Analysis of Variance (ANOVA)"
   ]
  },
  {
   "cell_type": "code",
   "execution_count": 9,
   "metadata": {},
   "outputs": [],
   "source": [
    "#  ANOVAs erfordern Daten aus annähernd normalverteilten Grundgesamtheiten mit gleichen Varianzen bei den Faktorstufen\n",
    "# https://towardsdatascience.com/1-way-anova-from-scratch-dissecting-the-anova-table-with-a-worked-example-170f4f2e58ad\n"
   ]
  },
  {
   "cell_type": "code",
   "execution_count": 10,
   "metadata": {},
   "outputs": [
    {
     "data": {
      "text/plain": [
       "(0.4556832940515221, 0.8212966923081592)"
      ]
     },
     "execution_count": 10,
     "metadata": {},
     "output_type": "execute_result"
    }
   ],
   "source": [
    "import scipy.stats\n",
    "\n",
    "def ANOVA(groups):\n",
    "    merged = sum(groups, [])\n",
    "    overall_mean = expected_value(merged)\n",
    "    group_means = sum([[expected_value(g)]*len(g) \n",
    "                       for g in groups], [])\n",
    "    sum_of_squares = sum_of_square_deviations(merged)\n",
    "    ss_residual = sum([sum_of_square_deviations(g) \n",
    "                       for g in groups])\n",
    "    ss_explained = sum((overall_mean - mean)**2 \n",
    "                       for mean in group_means)    \n",
    "    ms_residual = ss_residual / (len(merged) - len(groups))\n",
    "    ms_explained = ss_explained / (len(groups) - 1)\n",
    "    f_statistic = ms_explained / ms_residual\n",
    "    return  f_statistic\n",
    "\n",
    "\n",
    "A = [12.6 , 12, 11.8, 11.9, 13, 12.5, 14]\n",
    "B = [10, 10.2, 10, 12, 14, 13]\n",
    "C = [10.1, 13, 13.4, 12.9, 8.9, 10.7, 13.6, 12]\n",
    "\n",
    "\n",
    "groups = [A,B,C]\n",
    "n_obj = len(sum(groups, []))\n",
    "n_groups = len(groups)\n",
    "df_residual = n_obj - n_groups\n",
    "df_explained = n_groups -1 \n",
    "\n",
    "p_value = 1 - scipy.stats.f.cdf(ANOVA(groups), df_explained, df_residual)\n",
    "p_value, ANOVA(groups)"
   ]
  },
  {
   "cell_type": "markdown",
   "metadata": {},
   "source": [
    "\n",
    "\n",
    "# Chi-Quadrat-Test"
   ]
  },
  {
   "cell_type": "code",
   "execution_count": null,
   "metadata": {},
   "outputs": [],
   "source": []
  },
  {
   "cell_type": "markdown",
   "metadata": {},
   "source": [
    "# Misc"
   ]
  },
  {
   "cell_type": "code",
   "execution_count": 11,
   "metadata": {},
   "outputs": [],
   "source": [
    "def mean_square_error(Y, Y_prediction):\n",
    "    return (1 / len(Y)) * sum([(Y[i] - Y_prediction[i])**2 \n",
    "                               for i in range(len(Y))])\n",
    "\n",
    "def euclidean_distance(v, w):\n",
    "    return sqrt(sum([(v[i] - w[i])**2 \n",
    "                     for i in range(len(v))]))\n",
    "\n",
    "def euclidean_norm(v):\n",
    "    return sqrt(sum([x**2 for x in v]))\n",
    "\n",
    "def scale(X):\n",
    "    return [(X[i] - expected_value(X)) / standard_deviation(X) \n",
    "            for i in range(len(X))]\n",
    "\n",
    "def cosine_similarity(v, w):\n",
    "    return dot_product(v, w) / (l2_norm(v) * l2_norm(w))"
   ]
  },
  {
   "cell_type": "markdown",
   "metadata": {},
   "source": [
    "  <h1 style=\"color:darkblue; font-size:300%\"> Regression </h1>"
   ]
  },
  {
   "cell_type": "code",
   "execution_count": 12,
   "metadata": {},
   "outputs": [],
   "source": [
    "def gradient_descent(X, Y, learning_rate=0.3, m=0, b=0, iterations=5):\n",
    "    for i in range(iterations):\n",
    "        b_gradient = - (2 / len(X)) * sum([ Y[i] - ( m * X[i] + b) \n",
    "                                           for i in range(len(X))])\n",
    "        m_gradient = - (2 / len(X)) * sum([ X[i] * (Y[i] - ( m * X[i] + b)) \n",
    "                                           for i in range(len(X))])\n",
    "        b = b - (learning_rate * b_gradient)\n",
    "        m = m - (learning_rate * m_gradient)\n",
    "    return b, m"
   ]
  },
  {
   "cell_type": "code",
   "execution_count": 13,
   "metadata": {},
   "outputs": [],
   "source": [
    "# Sample Data\n",
    "data_regression = make_regression(n_samples=300, n_features=1, n_targets=1, noise=30, bias=10)\n",
    "data = pd.DataFrame.from_records(data_regression[0], columns =['x'])\n",
    "data['y'] = data_regression[1]\n",
    "X = data.x.values\n",
    "Y = data.y.values"
   ]
  },
  {
   "cell_type": "code",
   "execution_count": 14,
   "metadata": {},
   "outputs": [
    {
     "name": "stdout",
     "output_type": "stream",
     "text": [
      "7.440805081213086 56.68655032009352\n"
     ]
    }
   ],
   "source": [
    "b, m = gradient_descent(X, Y)\n",
    "print(b, m)"
   ]
  },
  {
   "cell_type": "code",
   "execution_count": 15,
   "metadata": {},
   "outputs": [
    {
     "data": {
      "text/plain": [
       "987.1969662787837"
      ]
     },
     "execution_count": 15,
     "metadata": {},
     "output_type": "execute_result"
    }
   ],
   "source": [
    "Y_prediction = [m * X[i] + b for i in range(len(X))]\n",
    "mean_square_error(Y, Y_prediction)"
   ]
  },
  {
   "cell_type": "code",
   "execution_count": 16,
   "metadata": {},
   "outputs": [
    {
     "data": {
      "image/png": "[encoded data removed]",
      "text/plain": [
       "<Figure size 960x320 with 1 Axes>"
      ]
     },
     "metadata": {
      "needs_background": "light"
     },
     "output_type": "display_data"
    }
   ],
   "source": [
    "f = plt.figure(figsize=(12, 4), dpi=80)\n",
    "plt.scatter(X,Y,figure=f)\n",
    "plt.plot(X, Y_prediction, \"--\", figure=f)\n",
    "plt.show()"
   ]
  },
  {
   "cell_type": "markdown",
   "metadata": {},
   "source": [
    "<h1 style=\"color:darkblue; font-size:300%\"> Klassifikation </h1>"
   ]
  },
  {
   "cell_type": "code",
   "execution_count": 41,
   "metadata": {},
   "outputs": [
    {
     "data": {
      "text/plain": [
       "<matplotlib.collections.PathCollection at 0x7fad792eaa50>"
      ]
     },
     "execution_count": 41,
     "metadata": {},
     "output_type": "execute_result"
    },
    {
     "data": {
      "image/png": "[encoded data removed]",
      "text/plain": [
       "<Figure size 960x320 with 1 Axes>"
      ]
     },
     "metadata": {
      "needs_background": "light"
     },
     "output_type": "display_data"
    }
   ],
   "source": [
    "p = conditional_probability \n",
    "m = marginal_probability\n",
    "g = gaussian_probability_density\n",
    "\n",
    "product = lambda L: L[0] * mul(L[1:]) if len(L) > 0 else 1\n",
    "   \n",
    "    \n",
    "def posterior_probability(c, v, X, Y):\n",
    "    prior = prior_probability(c, Y)\n",
    "    likelihood = product( [p(v[i], c, [w[i] for w in X], Y) \n",
    "                           for i in range(len(v))])\n",
    "    marginal = product( [m(v[i], [w[i] for w in X], list(Y)) \n",
    "                         for i in range(len(v))])\n",
    "    return (prior * likelihood) / marginal\n",
    "\n",
    "\n",
    "def gaussian_probability_density(x, u, std):    \n",
    "    return ((1 / ( std * math.sqrt(2 * math.pi))) * \n",
    "            math.exp(-((x - u)**2 / (2 * std**2 ))))\n",
    "\n",
    "\n",
    "def gaussian_naive_bayes_classifier(v, X, Y):\n",
    "    results = []\n",
    "    for class_i in set(Y):\n",
    "        probability = prior_probability(class_i, Y)  \n",
    "        X_class_i = [X[j] for j in range(len(Y)) if Y[j] == class_i]\n",
    "        for i in range(len(v)):\n",
    "            w = [w[i] for w in X_class_i]\n",
    "            probability *= g(v[i], expected_value(w), \n",
    "                             standard_deviation(w))\n",
    "        results += [(class_i, probability)]\n",
    "    return [x[1] for x in results].index(max([x[1] for x in results]))\n",
    "\n",
    "\n",
    "X, Y = make_blobs(n_samples=100, random_state=173)\n",
    "plt.figure(figsize=(12, 4), dpi=80)\n",
    "plt.scatter(X[:, 0], X[:, 1], c=[gaussian_naive_bayes_classifier(v, list(X), list(Y)) for v in X])"
   ]
  },
  {
   "cell_type": "markdown",
   "metadata": {},
   "source": [
    "<h1 style=\"color:darkblue; font-size:300%\"> Clustern </h1>"
   ]
  },
  {
   "cell_type": "code",
   "execution_count": 18,
   "metadata": {},
   "outputs": [],
   "source": [
    "def k_means_Lloyd(X, k):\n",
    "    # Initialisierung: Wähle k zufällige Mittelwerte\n",
    "    centroids = [list(X[random.randint(0, len(X)-1)]) for i in range(k)]\n",
    "    last_centroids = None\n",
    "    while (last_centroids != centroids):\n",
    "\n",
    "        last_centroids = centroids.copy()\n",
    "\n",
    "        # Datenobjekt zugeordnen, wobei Cluster-Varianz minimiert wird\n",
    "        assignments = [min([(sum((X[x_i] - centroids[k_i])**2), k_i) \n",
    "                             for k_i in range(k)])[1] \n",
    "                       for x_i in range(len(X))]\n",
    "\n",
    "        # Mittelpunkte der Cluster neu berechnen\n",
    "        for k_i in range(k): \n",
    "            k_i_subset = [X[i] for i in range(len(X)) \n",
    "                          if assignments[i] == k_i]\n",
    "            centroids[k_i] = list(1 / len(k_i_subset) * sum(k_i_subset))\n",
    "            \n",
    "    return assignments"
   ]
  },
  {
   "cell_type": "code",
   "execution_count": 19,
   "metadata": {},
   "outputs": [
    {
     "data": {
      "text/plain": [
       "<matplotlib.collections.PathCollection at 0x7fada03898d0>"
      ]
     },
     "execution_count": 19,
     "metadata": {},
     "output_type": "execute_result"
    },
    {
     "data": {
      "image/png": "[encoded data removed]",
      "text/plain": [
       "<Figure size 960x320 with 1 Axes>"
      ]
     },
     "metadata": {
      "needs_background": "light"
     },
     "output_type": "display_data"
    }
   ],
   "source": [
    "plt.figure(figsize=(12, 4), dpi=80)\n",
    "plt.scatter(X[:, 0], X[:, 1], c=k_means_Lloyd(X, k=3))"
   ]
  },
  {
   "cell_type": "markdown",
   "metadata": {},
   "source": [
    "<h1 style=\"color:darkblue; font-size:300%\"> Dimensionsreduktion </h1>"
   ]
  },
  {
   "cell_type": "code",
   "execution_count": 20,
   "metadata": {},
   "outputs": [],
   "source": [
    "from numpy import mean\n",
    "from numpy.linalg import eig\n",
    "\n",
    "eigenvalues_and_eigenvectors = eig\n",
    "T = matrix_transpose\n",
    "\n",
    "\n",
    "def principal_component_analysis(A):\n",
    "    column_means = [mean(column) for column in T(A)]\n",
    "\n",
    "    # center columns by subtracting column mean\n",
    "    centers = [ [row[i] - column_means[i] \n",
    "                 for i in range(len(A[0]))] for row in A]\n",
    "\n",
    "    # calculate covariance matrix of centered matrix\n",
    "    cov = covariance_matrix(centers)\n",
    "\n",
    "    # calculate eigendecomposition of covariance matrix\n",
    "    values, vectors = eigenvalues_and_eigenvectors(cov)\n",
    "    \n",
    "    # project data into subspace via matrix multiplication\n",
    "    return T(matrix_multiplication(T(vectors), T(centers)))"
   ]
  },
  {
   "cell_type": "code",
   "execution_count": 21,
   "metadata": {},
   "outputs": [
    {
     "data": {
      "text/plain": [
       "[[-2.82842712474619, 0.0], [0.0, 0.0], [2.82842712474619, 0.0]]"
      ]
     },
     "execution_count": 21,
     "metadata": {},
     "output_type": "execute_result"
    }
   ],
   "source": [
    "A = [[1, 2], \n",
    "     [3, 4], \n",
    "     [5, 6]]\n",
    "\n",
    "principal_component_analysis(A)"
   ]
  },
  {
   "cell_type": "markdown",
   "metadata": {},
   "source": [
    "<h1 style=\"color:darkblue; font-size:300%\"> Anomalieerkennung </h1>"
   ]
  },
  {
   "cell_type": "code",
   "execution_count": 22,
   "metadata": {},
   "outputs": [],
   "source": [
    "def k_nearest_neighbors(X, y, v, k, regression=False, d=euclidean_distance):\n",
    "    neighbors = [(d(X[i], v), y[i]) for i in range(len(X))]\n",
    "    neighbors.sort(key=lambda w: w[1]) # call by reference\n",
    "    knn =  neighbors[:k]\n",
    "    labels = [x[1] for x in knn]\n",
    "    if regression : \n",
    "        return sum(labels) / len(labels)\n",
    "    else: # classification \n",
    "        return max(labels, key=labels.count)\n"
   ]
  },
  {
   "cell_type": "code",
   "execution_count": 23,
   "metadata": {},
   "outputs": [],
   "source": [
    "def knn(v, X, k):\n",
    "    neighbors = [ (X[i], euclidean_distance(X[i], v)) for i in range(len(X))]\n",
    "    neighbors.sort(key=lambda w: w[1]) # call by reference\n",
    "    knn =  neighbors[1:k+1]\n",
    "    return [x[0] for x in knn]\n",
    "\n",
    "def outlier_detection_knn(X, k=10):\n",
    "    knn_table = [ knn(X[j], X, k) for j in range(len(X)) ]\n",
    "    knn_distance = [ [X[i]  - x  for x in knn_table[i]][k-1] \n",
    "                for i in range(len(X)) ]\n",
    "    return  list(map(euclidean_norm, knn_distance))"
   ]
  },
  {
   "cell_type": "code",
   "execution_count": 24,
   "metadata": {},
   "outputs": [
    {
     "data": {
      "text/plain": [
       "<matplotlib.collections.PathCollection at 0x7fada0374410>"
      ]
     },
     "execution_count": 24,
     "metadata": {},
     "output_type": "execute_result"
    },
    {
     "data": {
      "image/png": "[encoded data removed]",
      "text/plain": [
       "<Figure size 960x320 with 1 Axes>"
      ]
     },
     "metadata": {
      "needs_background": "light"
     },
     "output_type": "display_data"
    }
   ],
   "source": [
    "# Sample Data\n",
    "X, y = make_blobs(n_samples=300, centers=3, n_features=2, random_state=170)\n",
    "noise = [ [random.randint(-10, 10), random.randint(-10, 10)] for _ in range(10)]\n",
    "X = np.append(X, noise, axis=0)\n",
    "data = pd.DataFrame(dict(x=X[:,0], y=X[:,1]))\n",
    "\n",
    "knn_distance = outlier_detection_knn(X)\n",
    "plt.figure(figsize=(12, 4), dpi=80)\n",
    "plt.scatter(data.x, data.y, c=knn_distance,  s=[x*30 for x in knn_distance])"
   ]
  },
  {
   "cell_type": "markdown",
   "metadata": {},
   "source": [
    "<h1 style=\"color:darkblue; font-size:300%\"> Assoziationsanalyse </h1>"
   ]
  },
  {
   "cell_type": "code",
   "execution_count": 25,
   "metadata": {},
   "outputs": [
    {
     "name": "stdout",
     "output_type": "stream",
     "text": [
      "{'B'} => {'A'} with  1.0  confidence\n",
      "{'E'} => {'B'} with  1.0  confidence\n",
      "{'B'} => {'E'} with  1.0  confidence\n",
      "{'E'} => {'A'} with  1.0  confidence\n",
      "{'E', 'B'} => {'A'} with  1.0  confidence\n",
      "{'E', 'A'} => {'B'} with  1.0  confidence\n",
      "{'B', 'A'} => {'E'} with  1.0  confidence\n"
     ]
    }
   ],
   "source": [
    "from functools import reduce\n",
    "\n",
    "C = ['A', 'B', 'C', 'D', 'E']\n",
    "\n",
    "X = [ [1, 1, 1, 0, 1], \n",
    "      [0, 0, 1, 1, 0], \n",
    "      [1, 1, 0, 0, 1],\n",
    "      [1, 0, 1, 0, 0],\n",
    "      [1, 1, 1, 1, 1]]\n",
    "\n",
    "    \n",
    "transactions = [ frozenset([C[j] for j in range(len(C)) if X[i][j] == 1 ]) \n",
    "                for i in range(len(X))]\n",
    "\n",
    "def merge_subsets(M):\n",
    "    result = []\n",
    "    for i in range(len(M)):\n",
    "        for j in range(i+1,len(M)):\n",
    "            result += [M[i] | M[j]]\n",
    "    return set(result)\n",
    "\n",
    "def support_filter(c_i, transactions, threshold=0.5):\n",
    "    return [frozenset(c) for c in c_i if support(c, transactions) >= threshold ]\n",
    "\n",
    "\n",
    "def get_disjoint_subsets(M):\n",
    "    return [ (x, M - x) for x in  [set(x) for x in list(itertools.combinations(M, len(M)-1))]]\n",
    "\n",
    "\n",
    "def support(c, A):    \n",
    "    return [set(c).issubset(a_i) for a_i in A].count(True) / len(X)\n",
    "\n",
    "def confidence(L, R, M):\n",
    "    return (support(L | R, M)) / support(L, M)\n",
    "\n",
    "\n",
    "def apriori_algorithm(transactions, min_support, min_confidence):\n",
    "    \n",
    "    # step 1: select all candidates \n",
    "    c_i = [ frozenset(x) for x in \n",
    "           reduce(lambda i, j: i | j, transactions )]\n",
    "    candidates = []\n",
    "    while c_i:\n",
    "        c_i = merge_subsets(c_i)\n",
    "        c_i = support_filter(c_i, transactions, threshold=min_support)\n",
    "        candidates += c_i\n",
    "        \n",
    "    # step 2: \n",
    "    for candidat in candidates:\n",
    "        for L, R in get_disjoint_subsets(candidat):\n",
    "            conv = round(confidence(L, R, transactions),3)\n",
    "            if conv >= min_confidence:\n",
    "                print(L , '=>', set(R), 'with ', conv, ' confidence')\n",
    "\n",
    "apriori_algorithm(transactions, min_support=0.6, min_confidence=0.8)"
   ]
  },
  {
   "cell_type": "markdown",
   "metadata": {},
   "source": [
    "<h1 style=\"color:darkblue; font-size:300%\"> Empfehlungen </h1>"
   ]
  },
  {
   "cell_type": "code",
   "execution_count": 26,
   "metadata": {},
   "outputs": [],
   "source": [
    "member_vector = lambda word, sentence : 1 if (word in sentence) else 0\n",
    "\n",
    "def term_frequency(term, sentence):\n",
    "    return sentence.count(term) / len(sentence)\n",
    "\n",
    "def inverse_data_frequency(term, data):\n",
    "    m = sum([sentence.count(term) for sentence in data])\n",
    "    if m == 0:\n",
    "        return 0\n",
    "    return math.log(len(data) / m)\n",
    "\n",
    "def TF_IDF(term, sentence, data, corpus):\n",
    "    tf = term_frequency(term, sentence)\n",
    "    idf = inverse_data_frequency(term, data)\n",
    "    return tf*idf\n",
    "\n",
    "def preprocess(sentence):\n",
    "    word_vector = [w.upper() for w in sentence.split(' ')]\n",
    "    for i in range(len(word_vector)):\n",
    "        word_vector[i] = \"\".join([char for char in word_vector[i]\n",
    "                                  if char.isalpha()])\n",
    "    return word_vector\n",
    "\n",
    "def corpus_vector(s, corpus):\n",
    "    return [member_vector(v, s) for v in corpus]\n",
    "\n",
    "def vector_TF_IDF(w, data, corpus, v_bin):\n",
    "    v = []\n",
    "    for i in range(len(v_bin)):\n",
    "        if v_bin[i] == 1:\n",
    "            v += [TF_IDF(corpus[i], w, data, corpus)]\n",
    "        else:\n",
    "            v += [0.0]\n",
    "    return v"
   ]
  },
  {
   "cell_type": "code",
   "execution_count": 27,
   "metadata": {},
   "outputs": [],
   "source": [
    "corpus = ['THE', 'CAR', 'TRUCK', 'IS', 'DRIVEN', 'ON', 'THE', 'ROAD', 'HIGHWAY']"
   ]
  },
  {
   "cell_type": "code",
   "execution_count": 28,
   "metadata": {},
   "outputs": [
    {
     "data": {
      "text/plain": [
       "[['THE', 'CAR', 'IS', 'DRIVEN', 'ON', 'THE', 'ROAD'],\n",
       " ['THE', 'TRUCK', 'IS', 'DRIVEN', 'ON', 'THE', 'HIGHWAY'],\n",
       " ['THE', 'TRUCK', 'IS', 'ON', 'THE', 'HIGHWAY'],\n",
       " ['THE', 'TRUCK', 'ON', 'HIGHWAY']]"
      ]
     },
     "execution_count": 28,
     "metadata": {},
     "output_type": "execute_result"
    }
   ],
   "source": [
    "s1 = \"The car is driven on the road.\"\n",
    "s2 = \"The truck is driven on the highway.\"\n",
    "s3 = 'The Truck is on the highway.'\n",
    "s4 = 'The Truck on highway.'\n",
    "\n",
    "data = [ preprocess(s) for s in [s1, s2, s3, s4]]\n",
    "data"
   ]
  },
  {
   "cell_type": "code",
   "execution_count": 29,
   "metadata": {},
   "outputs": [
    {
     "data": {
      "text/plain": [
       "[[1, 1, 0, 1, 1, 1, 1, 1, 0],\n",
       " [1, 0, 1, 1, 1, 1, 1, 0, 1],\n",
       " [1, 0, 1, 1, 0, 1, 1, 0, 1],\n",
       " [1, 0, 1, 0, 0, 1, 1, 0, 1]]"
      ]
     },
     "execution_count": 29,
     "metadata": {},
     "output_type": "execute_result"
    }
   ],
   "source": [
    "data_bin = [ corpus_vector(s, corpus) for s in data]\n",
    "data_bin"
   ]
  },
  {
   "cell_type": "code",
   "execution_count": 30,
   "metadata": {},
   "outputs": [],
   "source": [
    "data_v = [ vector_TF_IDF(data[i], data, corpus, data_bin[i]) for i in range(len(data))]\n"
   ]
  },
  {
   "cell_type": "code",
   "execution_count": 31,
   "metadata": {},
   "outputs": [
    {
     "data": {
      "text/plain": [
       "0.9227357479578236"
      ]
     },
     "execution_count": 31,
     "metadata": {},
     "output_type": "execute_result"
    }
   ],
   "source": [
    "cosine_similarity(data_v[1], data_v[2])"
   ]
  },
  {
   "cell_type": "markdown",
   "metadata": {},
   "source": [
    "<h1 style=\"color:darkblue; font-size:300%\"> Neuronales Netz </h1>"
   ]
  },
  {
   "cell_type": "code",
   "execution_count": 32,
   "metadata": {},
   "outputs": [
    {
     "data": {
      "image/png": "[encoded data removed]",
      "text/plain": [
       "<Figure size 1008x576 with 1 Axes>"
      ]
     },
     "metadata": {
      "needs_background": "light"
     },
     "output_type": "display_data"
    }
   ],
   "source": [
    "data_classification = make_classification(n_samples=300,n_features=4, n_classes=2)\n",
    "data = pd.DataFrame.from_records(data_classification[0], columns=['x1', 'x2', 'x3', 'x4'])\n",
    "data['y'] = data_classification[1]\n",
    "plt.figure(figsize=(14, 8))\n",
    "plt.scatter(data.x3, data.x4, c=data.y)\n",
    "plt.show()"
   ]
  },
  {
   "cell_type": "code",
   "execution_count": 33,
   "metadata": {},
   "outputs": [
    {
     "name": "stdout",
     "output_type": "stream",
     "text": [
      "iteration 0 - Loss: 0.33357473482095373\n",
      "iteration 1 - Loss: 0.19083333333333333\n",
      "iteration 2 - Loss: 0.19\n",
      "iteration 3 - Loss: 0.18916666666666668\n",
      "iteration 4 - Loss: 0.18916666666666668\n",
      "iteration 5 - Loss: 0.18916666666666668\n",
      "iteration 6 - Loss: 0.1891665048677108\n",
      "iteration 7 - Loss: 0.18833333333333332\n",
      "iteration 8 - Loss: 0.18833333333333332\n"
     ]
    },
    {
     "name": "stderr",
     "output_type": "stream",
     "text": [
      "/home/sandro/anaconda3/lib/python3.7/site-packages/ipykernel_launcher.py:17: RuntimeWarning: overflow encountered in double_scalars\n"
     ]
    }
   ],
   "source": [
    "from math import e\n",
    "\n",
    "def sigmoid(x):\n",
    "    return 1/(1 + e**(-x))\n",
    "\n",
    "\n",
    "def sigmoid_derivative(x):\n",
    "    return x * (1 - x)\n",
    "\n",
    "def random_matrix(i, j):\n",
    "    return np.random.rand(i,j) \n",
    "\n",
    "\n",
    "def matrix_transpose(A):\n",
    "    return np.array(A).T\n",
    "\n",
    "sigmoid = lambda x:  1/(1 + e**(-x))\n",
    "sigmoid_derivative = lambda x: x * (1 - x)\n",
    "\n",
    "T = lambda M : matrix_transpose(M)\n",
    "o = lambda A,B : matrix_multiplication(A,B)\n",
    "f = lambda M: [list(map(sigmoid_derivative, x)) for x in M]\n",
    "\n",
    "\n",
    "class Neural_Network:\n",
    "    def __init__(self, x, y):\n",
    "        self.input = x\n",
    "        self.weights1= random_matrix(self.input.shape[1],4) \n",
    "        self.weights2 = random_matrix(4,1)\n",
    "        self.y = y\n",
    "        self.output = np.zeros(y.shape)\n",
    "        \n",
    "    def feedforward(self):\n",
    "        self.layer1 = [list(map(sigmoid, x)) for x in \n",
    "                       (o(self.input, self.weights1))]\n",
    "        self.layer2 = [list(map(sigmoid, x)) for x in \n",
    "                       (o(self.layer1, self.weights2))]\n",
    "        return self.layer2\n",
    "        \n",
    "    def backprop(self):\n",
    "        w = [ 2 * (self.y[i] - self.output[i]) * \n",
    "             sigmoid_derivative(self.output[i][0]) \n",
    "             for i in range(len(self.y))]\n",
    "        self.weights2 += o(T(self.layer1), w) \n",
    "        self.weights1 += o(T(self.input), o(w, f(T(self.weights2)))) \n",
    "                                          \n",
    "    def train(self, X, y):\n",
    "        self.output = self.feedforward()\n",
    "        self.backprop()\n",
    "        \n",
    "X = data[['x1', 'x2', 'x3', 'x4']].values\n",
    "y = np.array([ [i] for i in data['y']], dtype=float)\n",
    "\n",
    "NN = Neural_Network(X,y)\n",
    "for i in range(9):\n",
    "    print (\"iteration \" + str(i) +  \" - Loss: \" + str(np.mean(np.square(y - NN.feedforward()))))   \n",
    "    NN.train(X, y)"
   ]
  },
  {
   "cell_type": "markdown",
   "metadata": {},
   "source": [
    "<h1 style=\"color:darkblue; font-size:300%\"> Genetische Algorithmen </h1>"
   ]
  },
  {
   "cell_type": "markdown",
   "metadata": {},
   "source": [
    "# Knapsack Beispiel"
   ]
  },
  {
   "cell_type": "code",
   "execution_count": 34,
   "metadata": {},
   "outputs": [
    {
     "data": {
      "text/plain": [
       "1"
      ]
     },
     "execution_count": 34,
     "metadata": {},
     "output_type": "execute_result"
    }
   ],
   "source": [
    "from itertools import product\n",
    "\n",
    "\n",
    "def ks_exhaustive(s_list, v_list, S, k):\n",
    "    m = len(s_list)                                 \n",
    "    selection_list = list(product((1,0), repeat=m))     \n",
    "    for selection in selection_list:\n",
    "        if v_kS(selection, s_list, v_list, S, k, m):\n",
    "            return 1\n",
    "    return 0\n",
    "\n",
    "\n",
    "def v_kS(selection, s_list, v_list, S, k, m):\n",
    "    tmp_S = 0\n",
    "    tmp_k = 0\n",
    "    for i in range(m):\n",
    "        if selection[i] == 1:\n",
    "            tmp_k += v_list[i]\n",
    "            tmp_S += s_list[i]\n",
    "    if tmp_S <= S and tmp_k >= k:\n",
    "        return True\n",
    "    return False\n",
    "\n",
    "ks_exhaustive([5, 5, 4, 5, 5],[9, 9, 1, 9, 9],4,1)"
   ]
  },
  {
   "cell_type": "code",
   "execution_count": 35,
   "metadata": {},
   "outputs": [
    {
     "data": {
      "text/plain": [
       "([0, 0, 1, 1, 0, 1, 1, 1, 0, 0], 56)"
      ]
     },
     "execution_count": 35,
     "metadata": {},
     "output_type": "execute_result"
    }
   ],
   "source": [
    "class Genetic_Algorithm():\n",
    "    \n",
    "    def __init__(self, w, v, W):\n",
    "        self.w = w; self.v = v\n",
    "        self.W = W; self.m = len(v)\n",
    "        self.generation = []  # store genes\n",
    "        self.mutate   = 0.1  # mutation chance\n",
    "        self.survival = 0.5 # survival chance\n",
    "        self.n_childs = 64 # population size\n",
    "        self.n_generations = 1000 # number of generations\n",
    "        self.best_score = (None, -1)\n",
    "        \n",
    "    def populate(self):\n",
    "        for j in range(self.n_childs):\n",
    "            self.generation += [ [random.randint(0, 1) \n",
    "                                for i in range(self.m)]]\n",
    "    def fitness(self, genes):\n",
    "        genes_W, genes_score = 0, 0\n",
    "        for i in range(self.m):\n",
    "            if genes[i] == 1:\n",
    "                genes_W += self.w[i]\n",
    "                genes_score += self.v[i]\n",
    "            if genes_W > self.W:\n",
    "                return -1\n",
    "        return genes_score\n",
    "    \n",
    "    def mutation(self, genes):\n",
    "        for i in range(self.m):\n",
    "            if random.uniform(0, 1) <= self.mutate:\n",
    "                genes[i] = 1 - genes[i]\n",
    "        return genes\n",
    "    \n",
    "    def crossover(self, genes_1, genes_2):\n",
    "        j = random.randint(1, (self.m-1))\n",
    "        if random.randint(0,1) == 0: \n",
    "            return genes_1[:j] + genes_2[j:]\n",
    "        return genes_2[:j] + genes_1[j:]\n",
    "    \n",
    "    def selection(self):\n",
    "        evaluation = []\n",
    "        for genes in self.generation:\n",
    "            evaluation += [(genes, self.fitness(genes))]\n",
    "        evaluation.sort(key=lambda w: w[1], reverse=True) \n",
    "        if evaluation[0][1] > self.best_score[1]:\n",
    "            self.best_score = evaluation[0]\n",
    "        evaluation = [g[0] for g in evaluation]\n",
    "        self.generation =  evaluation[:round(self.n_childs*self.survival)]\n",
    "    \n",
    "    def evolution(self):\n",
    "        self.populate()  # init generation \n",
    "        \n",
    "        for l in range(self.n_generations):\n",
    "            self.selection() # surviving of the fittest\n",
    "            n_parents = len(self.generation)\n",
    "            for _ in range(self.n_childs - n_parents):\n",
    "                parent_1 = self.generation[random.randint(0, n_parents -1)]\n",
    "                parent_2 = self.generation[random.randint(0, n_parents -1)]\n",
    "                self.generation += [ self.crossover(parent_1, parent_2) ]\n",
    "\n",
    "            self.generation = [self.mutation(gene) for gene in self.generation]\n",
    "        return self.generation\n",
    "          \n",
    "    \n",
    "    \n",
    "ks = Genetic_Algorithm([15, 19, 11, 17, 4, 11, 17, 2, 13, 20], \n",
    "                       [10, 7, 8, 14, 15, 17, 6, 2, 3, 2], \n",
    "                       48)\n",
    "ks.evolution()\n",
    "ks.best_score"
   ]
  },
  {
   "cell_type": "markdown",
   "metadata": {},
   "source": [
    "<h1 style=\"color:darkblue; font-size:300%\"> Reinforcement learning </h1>"
   ]
  },
  {
   "cell_type": "code",
   "execution_count": 36,
   "metadata": {},
   "outputs": [
    {
     "data": {
      "image/png": "[encoded data removed]",
      "text/plain": [
       "<Figure size 432x288 with 1 Axes>"
      ]
     },
     "metadata": {},
     "output_type": "display_data"
    },
    {
     "data": {
      "text/plain": [
       "<Figure size 1440x640 with 0 Axes>"
      ]
     },
     "metadata": {},
     "output_type": "display_data"
    }
   ],
   "source": [
    "import networkx as nx\n",
    "\n",
    "def plot_wolrd(actions):\n",
    "    points =[]\n",
    "    for i in range(len(actions)):\n",
    "        for j in actions[i]:\n",
    "            points += [(i, j)]\n",
    "    G = nx.DiGraph()\n",
    "    G.add_edges_from(points)\n",
    "    pos = nx.spring_layout(G)\n",
    "    nx.draw_networkx_nodes(G,pos, alpha=0.5, arrows=True)\n",
    "    nx.draw_networkx_edges(G,pos, stlye='dashdot')\n",
    "    nx.draw_networkx_labels(G,pos)\n",
    "    plt.figure(figsize=(18, 8), dpi=80)\n",
    "    plt.show()\n",
    "\n",
    "#actions = generate_word(5)\n",
    "actions = [[1, 2], [2, 5], [7], [4], [7], [6, 4], [3], [] ]\n",
    "plot_wolrd(actions)"
   ]
  },
  {
   "cell_type": "code",
   "execution_count": 37,
   "metadata": {},
   "outputs": [],
   "source": [
    "rewards = [-1, -1, -100, 10, -1, -1, 10, -1, 100]\n",
    "goal = 7\n",
    "start = 0\n",
    "danger = 2\n",
    "n_states = 8\n",
    "\n",
    "n_episodes = 100        \n",
    "max_steps = 10\n",
    "epsilon = 1.0   \n",
    "learning_rate = 0.65"
   ]
  },
  {
   "cell_type": "markdown",
   "metadata": {},
   "source": [
    "# Q-Learning"
   ]
  },
  {
   "cell_type": "code",
   "execution_count": 38,
   "metadata": {},
   "outputs": [],
   "source": [
    "def update_Q_matrix(Q, state, action, value):\n",
    "    Q[state] =  Q[state][:action] + [value] + Q[state][action+1:]\n",
    "    return Q"
   ]
  },
  {
   "cell_type": "code",
   "execution_count": 39,
   "metadata": {
    "scrolled": false
   },
   "outputs": [
    {
     "data": {
      "text/plain": [
       "[[-1, 4.0, -100.0, 0, 0, 0, 0, 0],\n",
       " [0, -100, -99.99999999673739, 0, 0, 4.999999999745051, 0, 0],\n",
       " [0, 0, 0, 0, 0, 0, 0, 0],\n",
       " [0, 0, 0, -1, -0.9999724145264648, 0, 0, 0],\n",
       " [0, 0, 0, 0, -1, 0, 0, -0.9999999999986011],\n",
       " [0, 0, 0, 0, -0.9999999492905722, -1, 15.999251251432618, 0],\n",
       " [0, 0, 0, 9.999724145264649, 0, 0, 10, 0],\n",
       " [0, 0, 0, 0, 0, 0, 0, 0]]"
      ]
     },
     "execution_count": 39,
     "metadata": {},
     "output_type": "execute_result"
    }
   ],
   "source": [
    "Q = [[0]*n_states]*n_states\n",
    "\n",
    "\n",
    "for episode in range(n_episodes):\n",
    "    state = start\n",
    "    # score = rewards[start]\n",
    "    for step in range(max_steps):\n",
    "        possible = actions[state]\n",
    "        if epsilon < random.uniform(0, 1):\n",
    "            best = -1000\n",
    "            action = -1\n",
    "            for p in possible:\n",
    "                if Q[state][p] > best:\n",
    "                    action = p\n",
    "                    best = Q[state][action]\n",
    "        else:\n",
    "            action = random.sample(possible,1)[0]\n",
    "            \n",
    "        Q = update_Q_matrix(Q, state, state, rewards[action])\n",
    "                \n",
    "        future_reward = Q[action].index(max(Q[action]))\n",
    "        \n",
    "        value = (1 - learning_rate) * Q[state][action] \n",
    "        value += learning_rate * (rewards[action] + future_reward) \n",
    "        \n",
    "        Q = update_Q_matrix(Q, state, action, value)\n",
    "        \n",
    "        state = action\n",
    "        if state == goal or state == danger:\n",
    "            break \n",
    "            \n",
    "Q"
   ]
  },
  {
   "cell_type": "code",
   "execution_count": 40,
   "metadata": {},
   "outputs": [
    {
     "name": "stdout",
     "output_type": "stream",
     "text": [
      "Selected path:\n",
      "[0, 1, 5, 6, 3, 4, 7]\n"
     ]
    }
   ],
   "source": [
    "\n",
    "current_state = 0\n",
    "steps = [current_state]\n",
    "\n",
    "while current_state != goal:\n",
    "    possible = actions[current_state]\n",
    "    best = -1000\n",
    "    action = -1\n",
    "    for p in possible:\n",
    "        if Q[state][p] > best:\n",
    "            action = p\n",
    "            best = Q[current_state][action]                  \n",
    "    next_step_index = action \n",
    "    \n",
    "    steps.append(next_step_index)\n",
    "    current_state = next_step_index\n",
    "    \n",
    "\n",
    "# Print selected sequence of steps\n",
    "print(\"Selected path:\")\n",
    "print(steps)"
   ]
  },
  {
   "cell_type": "code",
   "execution_count": null,
   "metadata": {},
   "outputs": [],
   "source": []
  }
 ],
 "metadata": {
  "kernelspec": {
   "display_name": "Python 3",
   "language": "python",
   "name": "python3"
  },
  "language_info": {
   "codemirror_mode": {
    "name": "ipython",
    "version": 3
   },
   "file_extension": ".py",
   "mimetype": "text/x-python",
   "name": "python",
   "nbconvert_exporter": "python",
   "pygments_lexer": "ipython3",
   "version": "3.7.4"
  }
 },
 "nbformat": 4,
 "nbformat_minor": 2
}
